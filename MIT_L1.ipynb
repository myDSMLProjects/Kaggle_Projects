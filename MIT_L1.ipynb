{
  "nbformat": 4,
  "nbformat_minor": 0,
  "metadata": {
    "colab": {
      "name": "MIT-L1",
      "provenance": [],
      "collapsed_sections": [],
      "authorship_tag": "ABX9TyNGUpHX3At1geiJOA5Cjnx5",
      "include_colab_link": true
    },
    "kernelspec": {
      "name": "python3",
      "display_name": "Python 3"
    }
  },
  "cells": [
    {
      "cell_type": "markdown",
      "metadata": {
        "id": "view-in-github",
        "colab_type": "text"
      },
      "source": [
        "<a href=\"https://colab.research.google.com/github/myDSMLProjects/Kaggle_Projects/blob/master/MIT_L1.ipynb\" target=\"_parent\"><img src=\"https://colab.research.google.com/assets/colab-badge.svg\" alt=\"Open In Colab\"/></a>"
      ]
    },
    {
      "cell_type": "code",
      "metadata": {
        "id": "G84yQgkhbF_H",
        "colab_type": "code",
        "outputId": "7d8537a9-d7a9-4c27-f0a8-fb6aaaab585a",
        "colab": {
          "base_uri": "https://localhost:8080/",
          "height": 356
        }
      },
      "source": [
        "%tensorflow_version 2.x\n",
        "import tensorflow as tf\n",
        "\n",
        "# Download and import the MIT 6.S191 package\n",
        "!pip install mitdeeplearning\n",
        "import mitdeeplearning as mdl\n",
        "\n",
        "import numpy as np\n",
        "import matplotlib.pyplot as plt"
      ],
      "execution_count": 2,
      "outputs": [
        {
          "output_type": "stream",
          "text": [
            "Collecting mitdeeplearning\n",
            "\u001b[?25l  Downloading https://files.pythonhosted.org/packages/8b/3b/b9174b68dc10832356d02a2d83a64b43a24f1762c172754407d22fc8f960/mitdeeplearning-0.1.2.tar.gz (2.1MB)\n",
            "\r\u001b[K     |▏                               | 10kB 13.4MB/s eta 0:00:01\r\u001b[K     |▎                               | 20kB 1.8MB/s eta 0:00:02\r\u001b[K     |▌                               | 30kB 2.6MB/s eta 0:00:01\r\u001b[K     |▋                               | 40kB 3.4MB/s eta 0:00:01\r\u001b[K     |▉                               | 51kB 2.1MB/s eta 0:00:01\r\u001b[K     |█                               | 61kB 2.5MB/s eta 0:00:01\r\u001b[K     |█                               | 71kB 2.9MB/s eta 0:00:01\r\u001b[K     |█▎                              | 81kB 3.3MB/s eta 0:00:01\r\u001b[K     |█▍                              | 92kB 2.5MB/s eta 0:00:01\r\u001b[K     |█▋                              | 102kB 2.8MB/s eta 0:00:01\r\u001b[K     |█▊                              | 112kB 2.8MB/s eta 0:00:01\r\u001b[K     |█▉                              | 122kB 2.8MB/s eta 0:00:01\r\u001b[K     |██                              | 133kB 2.8MB/s eta 0:00:01\r\u001b[K     |██▏                             | 143kB 2.8MB/s eta 0:00:01\r\u001b[K     |██▍                             | 153kB 2.8MB/s eta 0:00:01\r\u001b[K     |██▌                             | 163kB 2.8MB/s eta 0:00:01\r\u001b[K     |██▊                             | 174kB 2.8MB/s eta 0:00:01\r\u001b[K     |██▉                             | 184kB 2.8MB/s eta 0:00:01\r\u001b[K     |███                             | 194kB 2.8MB/s eta 0:00:01\r\u001b[K     |███▏                            | 204kB 2.8MB/s eta 0:00:01\r\u001b[K     |███▎                            | 215kB 2.8MB/s eta 0:00:01\r\u001b[K     |███▌                            | 225kB 2.8MB/s eta 0:00:01\r\u001b[K     |███▋                            | 235kB 2.8MB/s eta 0:00:01\r\u001b[K     |███▊                            | 245kB 2.8MB/s eta 0:00:01\r\u001b[K     |████                            | 256kB 2.8MB/s eta 0:00:01\r\u001b[K     |████                            | 266kB 2.8MB/s eta 0:00:01\r\u001b[K     |████▎                           | 276kB 2.8MB/s eta 0:00:01\r\u001b[K     |████▍                           | 286kB 2.8MB/s eta 0:00:01\r\u001b[K     |████▋                           | 296kB 2.8MB/s eta 0:00:01\r\u001b[K     |████▊                           | 307kB 2.8MB/s eta 0:00:01\r\u001b[K     |████▉                           | 317kB 2.8MB/s eta 0:00:01\r\u001b[K     |█████                           | 327kB 2.8MB/s eta 0:00:01\r\u001b[K     |█████▏                          | 337kB 2.8MB/s eta 0:00:01\r\u001b[K     |█████▍                          | 348kB 2.8MB/s eta 0:00:01\r\u001b[K     |█████▌                          | 358kB 2.8MB/s eta 0:00:01\r\u001b[K     |█████▋                          | 368kB 2.8MB/s eta 0:00:01\r\u001b[K     |█████▉                          | 378kB 2.8MB/s eta 0:00:01\r\u001b[K     |██████                          | 389kB 2.8MB/s eta 0:00:01\r\u001b[K     |██████▏                         | 399kB 2.8MB/s eta 0:00:01\r\u001b[K     |██████▎                         | 409kB 2.8MB/s eta 0:00:01\r\u001b[K     |██████▌                         | 419kB 2.8MB/s eta 0:00:01\r\u001b[K     |██████▋                         | 430kB 2.8MB/s eta 0:00:01\r\u001b[K     |██████▊                         | 440kB 2.8MB/s eta 0:00:01\r\u001b[K     |███████                         | 450kB 2.8MB/s eta 0:00:01\r\u001b[K     |███████                         | 460kB 2.8MB/s eta 0:00:01\r\u001b[K     |███████▎                        | 471kB 2.8MB/s eta 0:00:01\r\u001b[K     |███████▍                        | 481kB 2.8MB/s eta 0:00:01\r\u001b[K     |███████▌                        | 491kB 2.8MB/s eta 0:00:01\r\u001b[K     |███████▊                        | 501kB 2.8MB/s eta 0:00:01\r\u001b[K     |███████▉                        | 512kB 2.8MB/s eta 0:00:01\r\u001b[K     |████████                        | 522kB 2.8MB/s eta 0:00:01\r\u001b[K     |████████▏                       | 532kB 2.8MB/s eta 0:00:01\r\u001b[K     |████████▍                       | 542kB 2.8MB/s eta 0:00:01\r\u001b[K     |████████▌                       | 552kB 2.8MB/s eta 0:00:01\r\u001b[K     |████████▋                       | 563kB 2.8MB/s eta 0:00:01\r\u001b[K     |████████▉                       | 573kB 2.8MB/s eta 0:00:01\r\u001b[K     |█████████                       | 583kB 2.8MB/s eta 0:00:01\r\u001b[K     |█████████▏                      | 593kB 2.8MB/s eta 0:00:01\r\u001b[K     |█████████▎                      | 604kB 2.8MB/s eta 0:00:01\r\u001b[K     |█████████▍                      | 614kB 2.8MB/s eta 0:00:01\r\u001b[K     |█████████▋                      | 624kB 2.8MB/s eta 0:00:01\r\u001b[K     |█████████▊                      | 634kB 2.8MB/s eta 0:00:01\r\u001b[K     |██████████                      | 645kB 2.8MB/s eta 0:00:01\r\u001b[K     |██████████                      | 655kB 2.8MB/s eta 0:00:01\r\u001b[K     |██████████▎                     | 665kB 2.8MB/s eta 0:00:01\r\u001b[K     |██████████▍                     | 675kB 2.8MB/s eta 0:00:01\r\u001b[K     |██████████▌                     | 686kB 2.8MB/s eta 0:00:01\r\u001b[K     |██████████▊                     | 696kB 2.8MB/s eta 0:00:01\r\u001b[K     |██████████▉                     | 706kB 2.8MB/s eta 0:00:01\r\u001b[K     |███████████                     | 716kB 2.8MB/s eta 0:00:01\r\u001b[K     |███████████▏                    | 727kB 2.8MB/s eta 0:00:01\r\u001b[K     |███████████▎                    | 737kB 2.8MB/s eta 0:00:01\r\u001b[K     |███████████▌                    | 747kB 2.8MB/s eta 0:00:01\r\u001b[K     |███████████▋                    | 757kB 2.8MB/s eta 0:00:01\r\u001b[K     |███████████▉                    | 768kB 2.8MB/s eta 0:00:01\r\u001b[K     |████████████                    | 778kB 2.8MB/s eta 0:00:01\r\u001b[K     |████████████                    | 788kB 2.8MB/s eta 0:00:01\r\u001b[K     |████████████▎                   | 798kB 2.8MB/s eta 0:00:01\r\u001b[K     |████████████▍                   | 808kB 2.8MB/s eta 0:00:01\r\u001b[K     |████████████▋                   | 819kB 2.8MB/s eta 0:00:01\r\u001b[K     |████████████▊                   | 829kB 2.8MB/s eta 0:00:01\r\u001b[K     |█████████████                   | 839kB 2.8MB/s eta 0:00:01\r\u001b[K     |█████████████                   | 849kB 2.8MB/s eta 0:00:01\r\u001b[K     |█████████████▏                  | 860kB 2.8MB/s eta 0:00:01\r\u001b[K     |█████████████▍                  | 870kB 2.8MB/s eta 0:00:01\r\u001b[K     |█████████████▌                  | 880kB 2.8MB/s eta 0:00:01\r\u001b[K     |█████████████▊                  | 890kB 2.8MB/s eta 0:00:01\r\u001b[K     |█████████████▉                  | 901kB 2.8MB/s eta 0:00:01\r\u001b[K     |██████████████                  | 911kB 2.8MB/s eta 0:00:01\r\u001b[K     |██████████████▏                 | 921kB 2.8MB/s eta 0:00:01\r\u001b[K     |██████████████▎                 | 931kB 2.8MB/s eta 0:00:01\r\u001b[K     |██████████████▌                 | 942kB 2.8MB/s eta 0:00:01\r\u001b[K     |██████████████▋                 | 952kB 2.8MB/s eta 0:00:01\r\u001b[K     |██████████████▉                 | 962kB 2.8MB/s eta 0:00:01\r\u001b[K     |███████████████                 | 972kB 2.8MB/s eta 0:00:01\r\u001b[K     |███████████████                 | 983kB 2.8MB/s eta 0:00:01\r\u001b[K     |███████████████▎                | 993kB 2.8MB/s eta 0:00:01\r\u001b[K     |███████████████▍                | 1.0MB 2.8MB/s eta 0:00:01\r\u001b[K     |███████████████▋                | 1.0MB 2.8MB/s eta 0:00:01\r\u001b[K     |███████████████▊                | 1.0MB 2.8MB/s eta 0:00:01\r\u001b[K     |███████████████▉                | 1.0MB 2.8MB/s eta 0:00:01\r\u001b[K     |████████████████                | 1.0MB 2.8MB/s eta 0:00:01\r\u001b[K     |████████████████▏               | 1.1MB 2.8MB/s eta 0:00:01\r\u001b[K     |████████████████▍               | 1.1MB 2.8MB/s eta 0:00:01\r\u001b[K     |████████████████▌               | 1.1MB 2.8MB/s eta 0:00:01\r\u001b[K     |████████████████▊               | 1.1MB 2.8MB/s eta 0:00:01\r\u001b[K     |████████████████▉               | 1.1MB 2.8MB/s eta 0:00:01\r\u001b[K     |█████████████████               | 1.1MB 2.8MB/s eta 0:00:01\r\u001b[K     |█████████████████▏              | 1.1MB 2.8MB/s eta 0:00:01\r\u001b[K     |█████████████████▎              | 1.1MB 2.8MB/s eta 0:00:01\r\u001b[K     |█████████████████▌              | 1.1MB 2.8MB/s eta 0:00:01\r\u001b[K     |█████████████████▋              | 1.1MB 2.8MB/s eta 0:00:01\r\u001b[K     |█████████████████▊              | 1.2MB 2.8MB/s eta 0:00:01\r\u001b[K     |██████████████████              | 1.2MB 2.8MB/s eta 0:00:01\r\u001b[K     |██████████████████              | 1.2MB 2.8MB/s eta 0:00:01\r\u001b[K     |██████████████████▎             | 1.2MB 2.8MB/s eta 0:00:01\r\u001b[K     |██████████████████▍             | 1.2MB 2.8MB/s eta 0:00:01\r\u001b[K     |██████████████████▋             | 1.2MB 2.8MB/s eta 0:00:01\r\u001b[K     |██████████████████▊             | 1.2MB 2.8MB/s eta 0:00:01\r\u001b[K     |██████████████████▉             | 1.2MB 2.8MB/s eta 0:00:01\r\u001b[K     |███████████████████             | 1.2MB 2.8MB/s eta 0:00:01\r\u001b[K     |███████████████████▏            | 1.2MB 2.8MB/s eta 0:00:01\r\u001b[K     |███████████████████▍            | 1.3MB 2.8MB/s eta 0:00:01\r\u001b[K     |███████████████████▌            | 1.3MB 2.8MB/s eta 0:00:01\r\u001b[K     |███████████████████▋            | 1.3MB 2.8MB/s eta 0:00:01\r\u001b[K     |███████████████████▉            | 1.3MB 2.8MB/s eta 0:00:01\r\u001b[K     |████████████████████            | 1.3MB 2.8MB/s eta 0:00:01\r\u001b[K     |████████████████████▏           | 1.3MB 2.8MB/s eta 0:00:01\r\u001b[K     |████████████████████▎           | 1.3MB 2.8MB/s eta 0:00:01\r\u001b[K     |████████████████████▌           | 1.3MB 2.8MB/s eta 0:00:01\r\u001b[K     |████████████████████▋           | 1.3MB 2.8MB/s eta 0:00:01\r\u001b[K     |████████████████████▊           | 1.4MB 2.8MB/s eta 0:00:01\r\u001b[K     |█████████████████████           | 1.4MB 2.8MB/s eta 0:00:01\r\u001b[K     |█████████████████████           | 1.4MB 2.8MB/s eta 0:00:01\r\u001b[K     |█████████████████████▎          | 1.4MB 2.8MB/s eta 0:00:01\r\u001b[K     |█████████████████████▍          | 1.4MB 2.8MB/s eta 0:00:01\r\u001b[K     |█████████████████████▌          | 1.4MB 2.8MB/s eta 0:00:01\r\u001b[K     |█████████████████████▊          | 1.4MB 2.8MB/s eta 0:00:01\r\u001b[K     |█████████████████████▉          | 1.4MB 2.8MB/s eta 0:00:01\r\u001b[K     |██████████████████████          | 1.4MB 2.8MB/s eta 0:00:01\r\u001b[K     |██████████████████████▏         | 1.4MB 2.8MB/s eta 0:00:01\r\u001b[K     |██████████████████████▍         | 1.5MB 2.8MB/s eta 0:00:01\r\u001b[K     |██████████████████████▌         | 1.5MB 2.8MB/s eta 0:00:01\r\u001b[K     |██████████████████████▋         | 1.5MB 2.8MB/s eta 0:00:01\r\u001b[K     |██████████████████████▉         | 1.5MB 2.8MB/s eta 0:00:01\r\u001b[K     |███████████████████████         | 1.5MB 2.8MB/s eta 0:00:01\r\u001b[K     |███████████████████████▏        | 1.5MB 2.8MB/s eta 0:00:01\r\u001b[K     |███████████████████████▎        | 1.5MB 2.8MB/s eta 0:00:01\r\u001b[K     |███████████████████████▍        | 1.5MB 2.8MB/s eta 0:00:01\r\u001b[K     |███████████████████████▋        | 1.5MB 2.8MB/s eta 0:00:01\r\u001b[K     |███████████████████████▊        | 1.5MB 2.8MB/s eta 0:00:01\r\u001b[K     |████████████████████████        | 1.6MB 2.8MB/s eta 0:00:01\r\u001b[K     |████████████████████████        | 1.6MB 2.8MB/s eta 0:00:01\r\u001b[K     |████████████████████████▏       | 1.6MB 2.8MB/s eta 0:00:01\r\u001b[K     |████████████████████████▍       | 1.6MB 2.8MB/s eta 0:00:01\r\u001b[K     |████████████████████████▌       | 1.6MB 2.8MB/s eta 0:00:01\r\u001b[K     |████████████████████████▊       | 1.6MB 2.8MB/s eta 0:00:01\r\u001b[K     |████████████████████████▉       | 1.6MB 2.8MB/s eta 0:00:01\r\u001b[K     |█████████████████████████       | 1.6MB 2.8MB/s eta 0:00:01\r\u001b[K     |█████████████████████████▏      | 1.6MB 2.8MB/s eta 0:00:01\r\u001b[K     |█████████████████████████▎      | 1.6MB 2.8MB/s eta 0:00:01\r\u001b[K     |█████████████████████████▌      | 1.7MB 2.8MB/s eta 0:00:01\r\u001b[K     |█████████████████████████▋      | 1.7MB 2.8MB/s eta 0:00:01\r\u001b[K     |█████████████████████████▉      | 1.7MB 2.8MB/s eta 0:00:01\r\u001b[K     |██████████████████████████      | 1.7MB 2.8MB/s eta 0:00:01\r\u001b[K     |██████████████████████████      | 1.7MB 2.8MB/s eta 0:00:01\r\u001b[K     |██████████████████████████▎     | 1.7MB 2.8MB/s eta 0:00:01\r\u001b[K     |██████████████████████████▍     | 1.7MB 2.8MB/s eta 0:00:01\r\u001b[K     |██████████████████████████▋     | 1.7MB 2.8MB/s eta 0:00:01\r\u001b[K     |██████████████████████████▊     | 1.7MB 2.8MB/s eta 0:00:01\r\u001b[K     |███████████████████████████     | 1.8MB 2.8MB/s eta 0:00:01\r\u001b[K     |███████████████████████████     | 1.8MB 2.8MB/s eta 0:00:01\r\u001b[K     |███████████████████████████▏    | 1.8MB 2.8MB/s eta 0:00:01\r\u001b[K     |███████████████████████████▍    | 1.8MB 2.8MB/s eta 0:00:01\r\u001b[K     |███████████████████████████▌    | 1.8MB 2.8MB/s eta 0:00:01\r\u001b[K     |███████████████████████████▊    | 1.8MB 2.8MB/s eta 0:00:01\r\u001b[K     |███████████████████████████▉    | 1.8MB 2.8MB/s eta 0:00:01\r\u001b[K     |████████████████████████████    | 1.8MB 2.8MB/s eta 0:00:01\r\u001b[K     |████████████████████████████▏   | 1.8MB 2.8MB/s eta 0:00:01\r\u001b[K     |████████████████████████████▎   | 1.8MB 2.8MB/s eta 0:00:01\r\u001b[K     |████████████████████████████▌   | 1.9MB 2.8MB/s eta 0:00:01\r\u001b[K     |████████████████████████████▋   | 1.9MB 2.8MB/s eta 0:00:01\r\u001b[K     |████████████████████████████▉   | 1.9MB 2.8MB/s eta 0:00:01\r\u001b[K     |█████████████████████████████   | 1.9MB 2.8MB/s eta 0:00:01\r\u001b[K     |█████████████████████████████   | 1.9MB 2.8MB/s eta 0:00:01\r\u001b[K     |█████████████████████████████▎  | 1.9MB 2.8MB/s eta 0:00:01\r\u001b[K     |█████████████████████████████▍  | 1.9MB 70kB/s eta 0:00:03\r\u001b[K     |█████████████████████████████▋  | 1.9MB 70kB/s eta 0:00:03\r\u001b[K     |█████████████████████████████▊  | 1.9MB 70kB/s eta 0:00:03\r\u001b[K     |█████████████████████████████▉  | 1.9MB 70kB/s eta 0:00:02\r\u001b[K     |██████████████████████████████  | 2.0MB 70kB/s eta 0:00:02\r\u001b[K     |██████████████████████████████▏ | 2.0MB 70kB/s eta 0:00:02\r\u001b[K     |██████████████████████████████▍ | 2.0MB 70kB/s eta 0:00:02\r\u001b[K     |██████████████████████████████▌ | 2.0MB 70kB/s eta 0:00:02\r\u001b[K     |██████████████████████████████▊ | 2.0MB 70kB/s eta 0:00:02\r\u001b[K     |██████████████████████████████▉ | 2.0MB 70kB/s eta 0:00:02\r\u001b[K     |███████████████████████████████ | 2.0MB 70kB/s eta 0:00:01\r\u001b[K     |███████████████████████████████▏| 2.0MB 70kB/s eta 0:00:01\r\u001b[K     |███████████████████████████████▎| 2.0MB 70kB/s eta 0:00:01\r\u001b[K     |███████████████████████████████▌| 2.0MB 70kB/s eta 0:00:01\r\u001b[K     |███████████████████████████████▋| 2.1MB 70kB/s eta 0:00:01\r\u001b[K     |███████████████████████████████▊| 2.1MB 70kB/s eta 0:00:01\r\u001b[K     |████████████████████████████████| 2.1MB 70kB/s eta 0:00:01\r\u001b[K     |████████████████████████████████| 2.1MB 70kB/s \n",
            "\u001b[?25hRequirement already satisfied: numpy in /usr/local/lib/python3.6/dist-packages (from mitdeeplearning) (1.18.3)\n",
            "Requirement already satisfied: regex in /usr/local/lib/python3.6/dist-packages (from mitdeeplearning) (2019.12.20)\n",
            "Requirement already satisfied: tqdm in /usr/local/lib/python3.6/dist-packages (from mitdeeplearning) (4.38.0)\n",
            "Requirement already satisfied: gym in /usr/local/lib/python3.6/dist-packages (from mitdeeplearning) (0.17.1)\n",
            "Requirement already satisfied: pyglet<=1.5.0,>=1.4.0 in /usr/local/lib/python3.6/dist-packages (from gym->mitdeeplearning) (1.5.0)\n",
            "Requirement already satisfied: scipy in /usr/local/lib/python3.6/dist-packages (from gym->mitdeeplearning) (1.4.1)\n",
            "Requirement already satisfied: cloudpickle<1.4.0,>=1.2.0 in /usr/local/lib/python3.6/dist-packages (from gym->mitdeeplearning) (1.3.0)\n",
            "Requirement already satisfied: six in /usr/local/lib/python3.6/dist-packages (from gym->mitdeeplearning) (1.12.0)\n",
            "Requirement already satisfied: future in /usr/local/lib/python3.6/dist-packages (from pyglet<=1.5.0,>=1.4.0->gym->mitdeeplearning) (0.16.0)\n",
            "Building wheels for collected packages: mitdeeplearning\n",
            "  Building wheel for mitdeeplearning (setup.py) ... \u001b[?25l\u001b[?25hdone\n",
            "  Created wheel for mitdeeplearning: filename=mitdeeplearning-0.1.2-cp36-none-any.whl size=2114586 sha256=44452fd5f468e6c79d272fcdcbfbb370854c3bdc4b080b0566c972e0eb6fa64e\n",
            "  Stored in directory: /root/.cache/pip/wheels/27/e1/73/5f01c787621d8a3c857f59876c79e304b9b64db9ff5bd61b74\n",
            "Successfully built mitdeeplearning\n",
            "Installing collected packages: mitdeeplearning\n",
            "Successfully installed mitdeeplearning-0.1.2\n"
          ],
          "name": "stdout"
        }
      ]
    },
    {
      "cell_type": "markdown",
      "metadata": {
        "id": "gJMiHBrvb23m",
        "colab_type": "text"
      },
      "source": [
        "## **it is called tensorflow because it handles the flow of tensors which are data structures - arrays of n dimensions**"
      ]
    },
    {
      "cell_type": "markdown",
      "metadata": {
        "id": "Z_zjoGPvdxcJ",
        "colab_type": "text"
      },
      "source": [
        "### **0-d Tensors**"
      ]
    },
    {
      "cell_type": "code",
      "metadata": {
        "id": "vfbb6BabbbED",
        "colab_type": "code",
        "outputId": "e3f80a44-848c-4f99-b546-a9f82711d57f",
        "colab": {
          "base_uri": "https://localhost:8080/",
          "height": 50
        }
      },
      "source": [
        "sport = tf.constant('Tennis', tf.string)\n",
        "numbers = tf.constant(1.41421356237, tf.float64)\n",
        "\n",
        "print('`sport` is a {}-d Tensor'.format(tf.rank(sport).numpy()))\n",
        "print('`numbers` is a {}-d Tensor'.format(tf.rank(numbers).numpy()))"
      ],
      "execution_count": 3,
      "outputs": [
        {
          "output_type": "stream",
          "text": [
            "`sport` is a 0-d Tensor\n",
            "`numbers` is a 0-d Tensor\n"
          ],
          "name": "stdout"
        }
      ]
    },
    {
      "cell_type": "markdown",
      "metadata": {
        "id": "3_ITMhAheCIs",
        "colab_type": "text"
      },
      "source": [
        "## **1-d Tensors**"
      ]
    },
    {
      "cell_type": "markdown",
      "metadata": {
        "id": "GApv1sQdfPXI",
        "colab_type": "text"
      },
      "source": [
        "vectors and lists can be used to create 1-d tensors"
      ]
    },
    {
      "cell_type": "code",
      "metadata": {
        "id": "kNf-HKSac5w8",
        "colab_type": "code",
        "outputId": "6b301b0a-9d08-4a7b-f975-a58467cb2d7a",
        "colab": {
          "base_uri": "https://localhost:8080/",
          "height": 50
        }
      },
      "source": [
        "sports = tf.constant(['Tennis', 'Basketball'], tf.string)\n",
        "numbers = tf.constant([3.141592, 1.414213, 2.71821], tf.float64)\n",
        "\n",
        "print('sports is a {}-d tensor with shape {}'.format(tf.rank(sports).numpy(), tf.shape(sports)))\n",
        "print('numners is a {}-d tensor with shape {}'.format(tf.rank(numbers).numpy(), tf.shape(numbers)))"
      ],
      "execution_count": 4,
      "outputs": [
        {
          "output_type": "stream",
          "text": [
            "sports is a 1-d tensor with shape [2]\n",
            "numners is a 1-d tensor with shape [3]\n"
          ],
          "name": "stdout"
        }
      ]
    },
    {
      "cell_type": "markdown",
      "metadata": {
        "id": "suwbZ8I8fjf2",
        "colab_type": "text"
      },
      "source": [
        "## **2-d Tensors**"
      ]
    },
    {
      "cell_type": "markdown",
      "metadata": {
        "id": "SLZZnUKsgDVi",
        "colab_type": "text"
      },
      "source": [
        "**we are going to create 2d (i.e matrices) and higher rank tensors.\n",
        "in future while dealing with image processing and computer vision we will create 4d tensors. Here the dimensions corresponds to the number of example images in our batch, image height, image width, and the number of color channels**"
      ]
    },
    {
      "cell_type": "code",
      "metadata": {
        "id": "9Z-EKhpieoae",
        "colab_type": "code",
        "colab": {}
      },
      "source": [
        "# Defining a higher-order tensor\n",
        "\n",
        "''' TODO : Define a 2-d Tensor '''\n",
        "matrix = tf.constant([[1.0, 2.0, 3.0, 4.0], [5.0, 6.0, 7.0, 8.0]])\n",
        "# print(tf.rank(matrix).numpy())\n",
        "assert isinstance(matrix, tf.Tensor), 'matrix must be a tf Tensor object'\n",
        "assert tf.rank(matrix).numpy() == 2"
      ],
      "execution_count": 0,
      "outputs": []
    },
    {
      "cell_type": "code",
      "metadata": {
        "id": "kMxjU4DDgBRQ",
        "colab_type": "code",
        "outputId": "4fb94179-670d-432f-f785-00202203dd5e",
        "colab": {
          "base_uri": "https://localhost:8080/",
          "height": 50
        }
      },
      "source": [
        "''' TODO : Define a 4-d Tensor '''\n",
        "# Use tf.zeros to initialize a 4-d Tensor of zeros with size 10 x 256 x 256 x 3.\n",
        "# You can think of these as 10 images where ech image is RGB 256 x 256\n",
        "\n",
        "images = tf.zeros([10, 256, 256, 3]) # TODO\n",
        "\n",
        "print(tf.rank(images).numpy())\n",
        "print(tf.shape(images).numpy().tolist())\n",
        "\n",
        "assert isinstance(images, tf.Tensor) # Matrix must be a tf Tensor object\n",
        "assert tf.rank(images).numpy() == 4\n",
        "assert tf.shape(images).numpy().tolist() == [10, 256, 256, 3]"
      ],
      "execution_count": 6,
      "outputs": [
        {
          "output_type": "stream",
          "text": [
            "4\n",
            "[10, 256, 256, 3]\n"
          ],
          "name": "stdout"
        }
      ]
    },
    {
      "cell_type": "markdown",
      "metadata": {
        "id": "ZFVGIQ6gnO1C",
        "colab_type": "text"
      },
      "source": [
        "As we have seen the `shape` of a Tensor provides the number of elements in each Tensor dimension. The `shape` is quite useful, and we'll use it often. You can also use slicing to access subtensors within a higher rank tensor"
      ]
    },
    {
      "cell_type": "code",
      "metadata": {
        "id": "nkO2hjb0lN3M",
        "colab_type": "code",
        "outputId": "803e9893-b793-4d9a-df4e-5251c7d307ec",
        "colab": {
          "base_uri": "https://localhost:8080/",
          "height": 67
        }
      },
      "source": [
        "row_vector = matrix[1]\n",
        "column_vector = matrix[:,2]\n",
        "scalar = matrix[1,2]\n",
        "\n",
        "print('row vector  :{}'.format(row_vector.numpy()))\n",
        "print('column vector : {}'.format(column_vector.numpy()))\n",
        "print('scalar : {}'.format(scalar.numpy()))"
      ],
      "execution_count": 7,
      "outputs": [
        {
          "output_type": "stream",
          "text": [
            "row vector  :[5. 6. 7. 8.]\n",
            "column vector : [3. 7.]\n",
            "scalar : 7.0\n"
          ],
          "name": "stdout"
        }
      ]
    },
    {
      "cell_type": "code",
      "metadata": {
        "id": "mwB_mRzhoUIs",
        "colab_type": "code",
        "outputId": "b0880826-beef-49f3-901a-91249d50de14",
        "colab": {
          "base_uri": "https://localhost:8080/",
          "height": 50
        }
      },
      "source": [
        "# Create nodes in the graph and initialize values\n",
        "\n",
        "a = tf.constant(25)\n",
        "b = tf.constant(61)\n",
        "\n",
        "# Add them\n",
        "c1 = tf.add(a,b)\n",
        "c2 = a+b  # Tensorflow overrides the `+` operation so thet it is able to act as Tensors\n",
        "\n",
        "print(c1)\n",
        "print(c2)"
      ],
      "execution_count": 8,
      "outputs": [
        {
          "output_type": "stream",
          "text": [
            "tf.Tensor(86, shape=(), dtype=int32)\n",
            "tf.Tensor(86, shape=(), dtype=int32)\n"
          ],
          "name": "stdout"
        }
      ]
    },
    {
      "cell_type": "markdown",
      "metadata": {
        "id": "jDKNcVS55rzo",
        "colab_type": "text"
      },
      "source": [
        "Notice how we've created a computation graph consisting of TensorFlow operations, and how  the output is a Tensor with value 76 -- we've just created a computation graph consisting of operations, and it's executed them and given us back the result.\n",
        "\n",
        "Now let's consider a slightly more complicated example:\n",
        "\n",
        "![alt text](https://raw.githubusercontent.com/aamini/introtodeeplearning/master/lab1/img/computation-graph.png)\n",
        "\n",
        "Here, we take two inputs, `a, b`, and compute an output `e`. Each node in the graph represents an operation that takes some input, does some computation, and passes its output to another node.\n",
        "\n",
        "Let's define a simple function in TensorFlow to construct this computation function:"
      ]
    },
    {
      "cell_type": "code",
      "metadata": {
        "id": "oOziEStC4mm9",
        "colab_type": "code",
        "colab": {}
      },
      "source": [
        "# Defining Tensor computations\n",
        "\n",
        "# Construct a simple computation function\n",
        "\n",
        "def func(a,b):\n",
        "  c = tf.add(a,b)\n",
        "  d = tf.subtract(b,1)\n",
        "  e = tf.multiply(c,d)\n",
        "\n",
        "  return e\n",
        "\n"
      ],
      "execution_count": 0,
      "outputs": []
    },
    {
      "cell_type": "code",
      "metadata": {
        "id": "Ksl15Xb16Yto",
        "colab_type": "code",
        "outputId": "c1ccfa7b-24fd-4d1b-c4dc-a9cf8d8f68be",
        "colab": {
          "base_uri": "https://localhost:8080/",
          "height": 34
        }
      },
      "source": [
        "a, b = 1.5, 2.5\n",
        "\n",
        "e_out = func(a,b)\n",
        "print(e_out)"
      ],
      "execution_count": 10,
      "outputs": [
        {
          "output_type": "stream",
          "text": [
            "tf.Tensor(6.0, shape=(), dtype=float32)\n"
          ],
          "name": "stdout"
        }
      ]
    },
    {
      "cell_type": "markdown",
      "metadata": {
        "id": "lntMXdZd8Db-",
        "colab_type": "text"
      },
      "source": [
        "we called the function to execute the computation graph given some inputs a, b:\n",
        "\n",
        "Notice how our output is a Tensor with a value defined by the output of the computation, and that the output has no shape as it is a single scalar value"
      ]
    },
    {
      "cell_type": "markdown",
      "metadata": {
        "id": "tZMO8plD8i_3",
        "colab_type": "text"
      },
      "source": [
        "## **Neural Networks in TensorFlow**"
      ]
    },
    {
      "cell_type": "markdown",
      "metadata": {
        "id": "oOl7MIzY8pk8",
        "colab_type": "text"
      },
      "source": [
        "We can also define Nueral Networks in TensorFlow using a high level API called Keras that provides a powerful, intuitive fraamework for building and training deep learning models\n",
        "\n",
        "Lets first consider the simple example of a Perceptron defined by just one DEnse layer\n",
        "\n",
        "`y=σ(Wx+b)`, where W represents a matrix of weights, b is a bias, x is the input and σ is the sigmoid activation function,  and y is the output.\n",
        "\n",
        "We can visualize it using the following graph\n",
        "\n",
        "![alt text](https://raw.githubusercontent.com/aamini/introtodeeplearning/master/lab1/img/computation-graph-2.png)\n",
        "\n"
      ]
    },
    {
      "cell_type": "markdown",
      "metadata": {
        "id": "mXNdRGFi-ODG",
        "colab_type": "text"
      },
      "source": [
        "Tensors can flow through abstract types called Layers - The building blocks of Neural networks.\n",
        "\n",
        "Layers implement common neural networks operations,  and are used to update the weights, compute losses,  and define inter_layer activity. We will first define a layer to implement the simple perceptron defined above"
      ]
    },
    {
      "cell_type": "code",
      "metadata": {
        "id": "8jB7lQyZ6i4q",
        "colab_type": "code",
        "outputId": "77653ec8-9eee-44f8-da54-498756285f66",
        "colab": {
          "base_uri": "https://localhost:8080/",
          "height": 67
        }
      },
      "source": [
        "# Defining a network Layer\n",
        "\n",
        "# n_output_nodes : number of output nodes\n",
        "# input_shape : shape of the input\n",
        "# x : input to the layer\n",
        "\n",
        "class OurDenseLayer(tf.keras.layers.Layer):\n",
        "  def __init__(self, n_output_nodes):\n",
        "    super(OurDenseLayer, self).__init__()\n",
        "    self.n_output_nodes = n_output_nodes\n",
        "\n",
        "  def build(self, input_shape):\n",
        "    d = int(input_shape[-1])\n",
        "    # Define and initialize the parameters : a weight matrix W and bias b\n",
        "    # Note that the parameter initialization is random\n",
        "    self.W = self.add_weight('Weight', shape=[d, self.n_output_nodes]) # note the dimensionality\n",
        "    self.b = self.add_weight('bias', shape=[1, self.n_output_nodes]) # note the dimensionality\n",
        "\n",
        "  def call(self, x):\n",
        "    z = tf.matmul(x, self.W) + self.b\n",
        "    y = tf.sigmoid(z)\n",
        "\n",
        "    return y\n",
        "  \n",
        "# Since layer parameters are initiated randomly , we will set a random seed fo reproducing the results\n",
        "tf.random.set_seed(1)\n",
        "layer = OurDenseLayer(3)\n",
        "layer.build((1,2))\n",
        "x_input = tf.constant([[1,2.]], shape=(1,2))\n",
        "y = layer.call(x_input)\n",
        "\n",
        "# test the output\n",
        "print(y.numpy())\n",
        "mdl.lab1.test_custom_dense_layer_output(y)\n",
        "\n",
        "\n"
      ],
      "execution_count": 11,
      "outputs": [
        {
          "output_type": "stream",
          "text": [
            "[[0.2697859  0.45750418 0.66536945]]\n",
            "[PASS] test_custom_dense_layer_output\n"
          ],
          "name": "stdout"
        },
        {
          "output_type": "execute_result",
          "data": {
            "text/plain": [
              "True"
            ]
          },
          "metadata": {
            "tags": []
          },
          "execution_count": 11
        }
      ]
    },
    {
      "cell_type": "markdown",
      "metadata": {
        "id": "NcdbWsqsJcKr",
        "colab_type": "text"
      },
      "source": [
        "Conveniently, TensorFlow has defined a number of LAyers that are commonly used in newural networks , for example a DEnse. Now, instead of using a single layer to define our simple neural network, we'll use the Sequential model fro   keras and a single Dense laye rto define to our network. With the sequential API you can readily create a neural network by stacking together layers like building blocks"
      ]
    },
    {
      "cell_type": "code",
      "metadata": {
        "id": "f4DHbUDOJSvt",
        "colab_type": "code",
        "colab": {}
      },
      "source": [
        "# import the related packages\n",
        "from tensorflow.keras import Sequential\n",
        "from tensorflow.keras.layers import Dense\n",
        "\n",
        "# Define the number of outputs\n",
        "n_output_nodes = 3\n",
        "\n",
        "# First define our model\n",
        "model = Sequential()\n",
        "\n",
        "# Define a dense (fully connected) layer to compute z\n",
        "\n",
        "# Remember : Dense layers are defined by parameters W and b\n",
        "dense_layer = Dense(n_output_nodes, activation='sigmoid')\n",
        "\n",
        "# Add the dense layer to the model\n",
        "model.add(dense_layer)\n",
        "\n",
        "# or in one line as model.add(Dense(n_output_nodes, activation='sigmoid'))"
      ],
      "execution_count": 0,
      "outputs": []
    },
    {
      "cell_type": "markdown",
      "metadata": {
        "id": "WRmblprxPIvv",
        "colab_type": "text"
      },
      "source": [
        "Thats it. We have defined our model using Sequential API. Now we can test it out using an example input"
      ]
    },
    {
      "cell_type": "code",
      "metadata": {
        "id": "28FMy9AXPgrI",
        "colab_type": "code",
        "outputId": "b347b059-0bf4-46e5-d12a-ba2afcdd35a5",
        "colab": {
          "base_uri": "https://localhost:8080/",
          "height": 34
        }
      },
      "source": [
        "# Test the model with an example input\n",
        "x_input = tf.constant([[1,2]], shape=(1,2))\n",
        "\n",
        "# Feed it to the odel and predict the output\n",
        "model_output = model(x_input).numpy()\n",
        "\n",
        "# Model output\n",
        "print(model_output)"
      ],
      "execution_count": 13,
      "outputs": [
        {
          "output_type": "stream",
          "text": [
            "[[0.5607363 0.6566898 0.1249697]]\n"
          ],
          "name": "stdout"
        }
      ]
    },
    {
      "cell_type": "markdown",
      "metadata": {
        "id": "ZQdC-n2nQL5b",
        "colab_type": "text"
      },
      "source": [
        "In addition to defining model using the Sequential API, we can also define neural networks by directly subclassing the model class, which groups of layers together to enable model training and inference''The model class captures what we refer to as model or as a network. Using Subclassing ,we can create a class of our model ,and then define the forward pass through the network using the call function. Subclassing affords the flexibility to define custom layers, custom training loops, custom activation functions and custom models. LEts define the same neural network as above now using Subclassing rather than the Sequential API"
      ]
    },
    {
      "cell_type": "code",
      "metadata": {
        "id": "01OtxziqReMt",
        "colab_type": "code",
        "colab": {}
      },
      "source": [
        "### Defining the model using subclassing ###\n",
        "from tensorflow.keras import Model\n",
        "from tensorflow.keras.layers import Dense\n",
        "\n",
        "class SubclassModel(tf.keras.Model):\n",
        "\n",
        "  # In init we define the model layers\n",
        "  def __init__(self, n_output_nodes):\n",
        "    super(SubclassModel, self).__init__()\n",
        "    # Our model consists of single Dense layer. Define it\n",
        "    self.dense_layer = Dense(n_output_nodes, activation='sigmoid')\n",
        "\n",
        "  def call(self, inputs):\n",
        "    return self.dense_layer(inputs)   "
      ],
      "execution_count": 0,
      "outputs": []
    },
    {
      "cell_type": "markdown",
      "metadata": {
        "id": "Mze_DUQOTCsL",
        "colab_type": "text"
      },
      "source": [
        "Just like the model we built using the Sequential API lets test our subclass model using an example input"
      ]
    },
    {
      "cell_type": "code",
      "metadata": {
        "id": "tki6qmy2TBr-",
        "colab_type": "code",
        "outputId": "9fe0191a-d393-46dd-c3e5-a54aa9b6948e",
        "colab": {
          "base_uri": "https://localhost:8080/",
          "height": 34
        }
      },
      "source": [
        "n_output_nodes = 3\n",
        "model = SubclassModel(n_output_nodes)\n",
        "x_input = tf.constant([[1,2]], shape=(1,2))\n",
        "\n",
        "model.call(x_input).numpy()"
      ],
      "execution_count": 15,
      "outputs": [
        {
          "output_type": "execute_result",
          "data": {
            "text/plain": [
              "array([[0.6504887 , 0.47828162, 0.8373661 ]], dtype=float32)"
            ]
          },
          "metadata": {
            "tags": []
          },
          "execution_count": 15
        }
      ]
    },
    {
      "cell_type": "markdown",
      "metadata": {
        "id": "bVLPGbOuTyYQ",
        "colab_type": "text"
      },
      "source": [
        "Importantly Subclassing affords us a alot of flexibility to define custom models. For example we can use boolean arguements in the function to specify different bahaviors during the training and inference. Lets suppose under some instances we want our network to simply output the input, without any perturbation. We define a boolean arguement isidentity to control this behavior"
      ]
    },
    {
      "cell_type": "code",
      "metadata": {
        "id": "C0mYLmvTTmQe",
        "colab_type": "code",
        "colab": {}
      },
      "source": [
        "# Defining a model using subclassing and specifying custom brhavior\n",
        "\n",
        "from tensorflow.keras import Model\n",
        "from tensorflow.keras.layers import Dense\n",
        "\n",
        "class IdentityModel(tf.keras.Model):\n",
        "\n",
        "  # As before in the init we define the Moel's layers\n",
        "  # since our desird bahavior involvs the forward pass this part remains unchanged\n",
        "\n",
        "  def __init__(self, n_output_nodes):\n",
        "    super(IdentityModel, self).__init__()\n",
        "    # self.n_output_nodes = n_output_nodes      this is needed if we are building the Layer\n",
        "    self.dense_layer = Dense(n_output_nodes, activation='sigmoid')\n",
        "\n",
        "# implement the bahavior where the network outputs the input, unchanged, under control of isidentity argument \n",
        "  def call(self, inputs, isidentity=False):\n",
        "    x = self.dense_layer(inputs)\n",
        "    if isidentity:\n",
        "      return inputs\n",
        "    return x"
      ],
      "execution_count": 0,
      "outputs": []
    },
    {
      "cell_type": "markdown",
      "metadata": {
        "id": "URPyeA1vKULE",
        "colab_type": "text"
      },
      "source": [
        "Lets test this bahavior"
      ]
    },
    {
      "cell_type": "code",
      "metadata": {
        "id": "OaJZifSkKT1G",
        "colab_type": "code",
        "colab": {
          "base_uri": "https://localhost:8080/",
          "height": 67
        },
        "outputId": "7b75a003-5b32-4492-a6ce-b11ae508499f"
      },
      "source": [
        "n_output_nodes = 3\n",
        "model = IdentityModel(n_output_nodes)\n",
        "\n",
        "x_input = tf.constant([[1,0], [0,1]], shape=(2,2))\n",
        "\n",
        "out_activate = model.call(x_input)\n",
        "out_identity = model.call(x_input, isidentity=True)\n",
        "\n",
        "print('Network output with activation: {}; network identity output: {}'.format(out_activate.numpy(), out_identity.numpy()))\n"
      ],
      "execution_count": 19,
      "outputs": [
        {
          "output_type": "stream",
          "text": [
            "Network output with activation: [[0.7461689  0.7449926  0.53853303]\n",
            " [0.6552061  0.28952885 0.6789708 ]]; network identity output: [[1 0]\n",
            " [0 1]]\n"
          ],
          "name": "stdout"
        }
      ]
    },
    {
      "cell_type": "markdown",
      "metadata": {
        "id": "1W0pqQcoLdF1",
        "colab_type": "text"
      },
      "source": [
        "Now that we have known how to define Layers as well as neural networks in TensorFlow using both the Sequential and Subclassing API's we are ready to turn our attention to how actually implement network training with backpropogation"
      ]
    },
    {
      "cell_type": "markdown",
      "metadata": {
        "id": "cozu-y4Q0n0c",
        "colab_type": "text"
      },
      "source": [
        "## **Automatic Differenciation in TensorFlow**"
      ]
    },
    {
      "cell_type": "markdown",
      "metadata": {
        "id": "yEm7WpEm0yEj",
        "colab_type": "text"
      },
      "source": [
        "Automatic differentiation is one of the most important parts of TensorFlow and is the backborn of training with backpropogation. We'll use the tensorflow gradientTape  tf.GradientTape to trace operations for computing gradients later.\n",
        "\n",
        "When a forward pass is made through the network, all the forward pass operations get recorded to a 'tape' then, to compute the gradient, the tape is played backwards. By default, the tape is discarded after it is played backwards; this means that a particular tf.GradientTape can only compute one gradient, and the subsequents calls will throw a runtime error. However, we can compute multiple gradients over the same computation by creating a persistant gradient tape\n",
        "\n",
        "First, we'll look at how we can compute gradients using gradient tape and access them for computation. We difine the simple function y=x*x  and compute the gradient:"
      ]
    },
    {
      "cell_type": "code",
      "metadata": {
        "id": "wRaLTPjO2VKr",
        "colab_type": "code",
        "colab": {
          "base_uri": "https://localhost:8080/",
          "height": 34
        },
        "outputId": "69532114-f92c-44f6-83fa-586bee956bf2"
      },
      "source": [
        "# Gradient computation using GradintTape\n",
        "\n",
        "x = tf.Variable(3.0)\n",
        "\n",
        "# Initiate the gradientTape\n",
        "with tf.GradientTape() as tape:\n",
        "  # Defien the function\n",
        "  y = x*x\n",
        "\n",
        "# Access the gradient -- derivative of y wrt x\n",
        "dy_dx = tape.gradient(y, x)\n",
        "\n",
        "#assert dy_dx.numpy() == 6.0\n",
        "print(dy_dx)"
      ],
      "execution_count": 22,
      "outputs": [
        {
          "output_type": "stream",
          "text": [
            "tf.Tensor(6.0, shape=(), dtype=float32)\n"
          ],
          "name": "stdout"
        }
      ]
    },
    {
      "cell_type": "markdown",
      "metadata": {
        "id": "8PJWexsh5jz2",
        "colab_type": "text"
      },
      "source": [
        "In training neural networks we use differentiation and schotastic gradient descent SGD to optimize a loss function. Now that we have a sense of GradientTape can be used to compute and access derevatives, we'll look at an example where we use automatic differentiation and SGD to find the minimum of $L=(x-x_f)^2$. Here $x_f$ is a variable for a desired value we are trying to optimize for; $L$ represents a loss that we are trying to minimize. While we can clearly solve this problem analytically ($x_{min}=x_f$), considering how we can compute this using `GrdadientTape` sets us up nicely for future where we use gradient descent to optimize the entire neural network losses"
      ]
    },
    {
      "cell_type": "code",
      "metadata": {
        "id": "_y7TjyiV26mx",
        "colab_type": "code",
        "colab": {
          "base_uri": "https://localhost:8080/",
          "height": 298
        },
        "outputId": "072dae7e-6b5e-4c66-9666-b343b6da698e"
      },
      "source": [
        "# Function minimization with automatic differentiation and SGD\n",
        "\n",
        "# Initialize a random value for our initial x\n",
        "\n",
        "x = tf.Variable([tf.random.normal([1])]) # gives a 2D array with one random normal number of shape (1,1)\n",
        "print('Initializing x = {}'.format(x.numpy()))\n",
        "\n",
        "learning_rate = 1e-2 # learning rate fro SGD\n",
        "history = []\n",
        "\n",
        "# Define the target value\n",
        "x_f = 4\n",
        "\n",
        "# we will run SGD for a number of iterations, we compute the loss,\n",
        "# compute the derivative of the loss wrt x, and perform the SGD update\n",
        "for i in range(500):\n",
        "  with tf.GradientTape() as tape:\n",
        "    loss = (x - x_f)**2      # \"forward pass\": records the loss on the tape\n",
        "\n",
        "  # loss minimization using gradient tape\n",
        "  grad = tape.gradient(loss, x) # compute the derivative of the loss wrt x\n",
        "  new_x = x - learning_rate*grad # SGD update\n",
        "  x.assign(new_x) # update the value of x\n",
        "  history.append(x.numpy()[0])\n",
        "\n",
        "# Plot the evolution of x as we optimize towards x_f !\n",
        "plt.plot(history)\n",
        "plt.plot([0,500], [x_f,x_f])\n",
        "plt.legend(('Predicted', 'True'))\n",
        "plt.ylabel('x_value')"
      ],
      "execution_count": 37,
      "outputs": [
        {
          "output_type": "stream",
          "text": [
            "Initializing x = [[0.79197717]]\n"
          ],
          "name": "stdout"
        },
        {
          "output_type": "execute_result",
          "data": {
            "text/plain": [
              "Text(0, 0.5, 'x_value')"
            ]
          },
          "metadata": {
            "tags": []
          },
          "execution_count": 37
        },
        {
          "output_type": "display_data",
          "data": {
            "image/png": "[encoded data removed]",
            "text/plain": [
              "<Figure size 432x288 with 1 Axes>"
            ]
          },
          "metadata": {
            "tags": [],
            "needs_background": "light"
          }
        }
      ]
    },
    {
      "cell_type": "markdown",
      "metadata": {
        "id": "3W3yTHKqAaRV",
        "colab_type": "text"
      },
      "source": [
        "GradientTape provides an extremely flexible framework for automatic differentiation. In order to back propogate errors through a neural network, we track the forward passes on the tape , use this information to determine the gradients, and then use these gradients for optimization using SGD"
      ]
    },
    {
      "cell_type": "code",
      "metadata": {
        "id": "XVLJjkpyKC1R",
        "colab_type": "code",
        "colab": {}
      },
      "source": [
        ""
      ],
      "execution_count": 0,
      "outputs": []
    }
  ]
}